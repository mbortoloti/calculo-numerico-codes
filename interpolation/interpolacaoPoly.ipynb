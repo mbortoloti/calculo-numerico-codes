{
 "cells": [
  {
   "cell_type": "markdown",
   "id": "7f3ad864",
   "metadata": {},
   "source": [
    "# Interpolação Polinomial"
   ]
  },
  {
   "cell_type": "markdown",
   "id": "82c4f395",
   "metadata": {},
   "source": [
    "A função abaixo, retorna os coeficientes do polinômio interpolante para os pontos $(x_i,f_i)$, $i = 1, \\cdots,n$. A função \"interp\" recebe uma matrix $P$, tal que $P_{i1} = x_i$ e $P_{i2} = f_i$. "
   ]
  },
  {
   "cell_type": "code",
   "execution_count": 1,
   "id": "1bace894",
   "metadata": {},
   "outputs": [
    {
     "data": {
      "text/plain": [
       "interp (generic function with 1 method)"
      ]
     },
     "execution_count": 1,
     "metadata": {},
     "output_type": "execute_result"
    }
   ],
   "source": [
    "function interp(P)\n",
    "    # This function receives a matrix P (n x 2) and returns the coeficients\n",
    "    # of polynomial interpolation of (x_i,f_i), i = 1, ..., n, where \n",
    "    # P[i,1]=x_i and P[i,2]=f_i.\n",
    "    \n",
    "    npoints = size(P,1);\n",
    "    \n",
    "    # Initiate Vandermonde matrix\n",
    "    V = zeros(npoints,npoints);\n",
    "    \n",
    "    # Create Vandermonde matrix\n",
    "    for i = 1 : npoints\n",
    "        for j = 1 : npoints\n",
    "            V[i,j] = P[i,1]^(j-1);\n",
    "        end\n",
    "    end\n",
    "    \n",
    "    # Solving the system\n",
    "    sol = V \\ P[:,2];\n",
    "    \n",
    "    return(sol);\n",
    "end"
   ]
  },
  {
   "cell_type": "markdown",
   "id": "d582b0ba",
   "metadata": {},
   "source": [
    "A função polyfit recebe a matrix $P$, que contem os pontos $(x_i,f_i)$ e $x \\in \\mathbb{R}$ e retorna o valor do polinômio interpolante no ponto $x$. "
   ]
  },
  {
   "cell_type": "code",
   "execution_count": 2,
   "id": "8aae8076",
   "metadata": {},
   "outputs": [
    {
     "data": {
      "text/plain": [
       "polyfit (generic function with 1 method)"
      ]
     },
     "execution_count": 2,
     "metadata": {},
     "output_type": "execute_result"
    }
   ],
   "source": [
    "function polyfit(x,P)\n",
    "    np = size(P,1);\n",
    "    \n",
    "    # Coeficients of the interpolante polynomial\n",
    "    α = interp(P);\n",
    "    \n",
    "    px = zeros(np,1);\n",
    "    \n",
    "    for i = 1 : np\n",
    "        px[i] = x^(i-1);\n",
    "    end\n",
    "    \n",
    "    z = α' * px;\n",
    "\n",
    "    return(z[1]);\n",
    "end"
   ]
  },
  {
   "cell_type": "markdown",
   "id": "1324af22",
   "metadata": {},
   "source": [
    "As linhas a seguir são utilizadas para testar a função polyfit."
   ]
  },
  {
   "cell_type": "code",
   "execution_count": 3,
   "id": "8d3538b8",
   "metadata": {},
   "outputs": [],
   "source": [
    "# Data for testing interp function\n",
    "x0 = 1.0;\n",
    "x1 = 5.0;\n",
    "npoints = 5;\n",
    "x = LinRange(x0,x1,npoints);\n",
    "y = 10 * rand(npoints,1);\n",
    "P = hcat(x,y);"
   ]
  },
  {
   "cell_type": "code",
   "execution_count": 4,
   "id": "ee95cf34",
   "metadata": {},
   "outputs": [
    {
     "data": {
      "image/svg+xml": "<?xml version=\"1.0\" encoding=\"utf-8\"?>\n<svg xmlns=\"http://www.w3.org/2000/svg\" xmlns:xlink=\"http://www.w3.org/1999/xlink\" width=\"600\" height=\"400\" viewBox=\"0 0 2400 1600\">\n<defs>\n  <clipPath id=\"clip730\">\n    <rect x=\"0\" y=\"0\" width=\"2400\" height=\"1600\"/>\n  </clipPath>\n</defs>\n<path clip-path=\"url(#clip730)\" d=\"\nM0 1600 L2400 1600 L2400 0 L0 0  Z\n  \" fill=\"#ffffff\" fill-rule=\"evenodd\" fill-opacity=\"1\"/>\n<defs>\n  <clipPath id=\"clip731\">\n    <rect x=\"480\" y=\"0\" width=\"1681\" height=\"1600\"/>\n  </clipPath>\n</defs>\n<path clip-path=\"url(#clip730)\" d=\"\nM112.177 1486.45 L2352.76 1486.45 L2352.76 47.2441 L112.177 47.2441  Z\n  \" fill=\"#ffffff\" fill-rule=\"evenodd\" fill-opacity=\"1\"/>\n<defs>\n  <clipPath id=\"clip732\">\n    <rect x=\"112\" y=\"47\" width=\"2242\" height=\"1440\"/>\n  </clipPath>\n</defs>\n<polyline clip-path=\"url(#clip732)\" style=\"stroke:#000000; stroke-linecap:butt; stroke-linejoin:round; stroke-width:2; stroke-opacity:0.1; fill:none\" points=\"\n  175.59,1486.45 175.59,47.2441 \n  \"/>\n<polyline clip-path=\"url(#clip732)\" style=\"stroke:#000000; stroke-linecap:butt; stroke-linejoin:round; stroke-width:2; stroke-opacity:0.1; fill:none\" points=\"\n  527.882,1486.45 527.882,47.2441 \n  \"/>\n<polyline clip-path=\"url(#clip732)\" style=\"stroke:#000000; stroke-linecap:butt; stroke-linejoin:round; stroke-width:2; stroke-opacity:0.1; fill:none\" points=\"\n  880.174,1486.45 880.174,47.2441 \n  \"/>\n<polyline clip-path=\"url(#clip732)\" style=\"stroke:#000000; stroke-linecap:butt; stroke-linejoin:round; stroke-width:2; stroke-opacity:0.1; fill:none\" points=\"\n  1232.47,1486.45 1232.47,47.2441 \n  \"/>\n<polyline clip-path=\"url(#clip732)\" style=\"stroke:#000000; stroke-linecap:butt; stroke-linejoin:round; stroke-width:2; stroke-opacity:0.1; fill:none\" points=\"\n  1584.76,1486.45 1584.76,47.2441 \n  \"/>\n<polyline clip-path=\"url(#clip732)\" style=\"stroke:#000000; stroke-linecap:butt; stroke-linejoin:round; stroke-width:2; stroke-opacity:0.1; fill:none\" points=\"\n  1937.05,1486.45 1937.05,47.2441 \n  \"/>\n<polyline clip-path=\"url(#clip732)\" style=\"stroke:#000000; stroke-linecap:butt; stroke-linejoin:round; stroke-width:2; stroke-opacity:0.1; fill:none\" points=\"\n  2289.34,1486.45 2289.34,47.2441 \n  \"/>\n<polyline clip-path=\"url(#clip730)\" style=\"stroke:#000000; stroke-linecap:butt; stroke-linejoin:round; stroke-width:4; stroke-opacity:1; fill:none\" points=\"\n  112.177,1486.45 2352.76,1486.45 \n  \"/>\n<polyline clip-path=\"url(#clip730)\" style=\"stroke:#000000; stroke-linecap:butt; stroke-linejoin:round; stroke-width:4; stroke-opacity:1; fill:none\" points=\"\n  175.59,1486.45 175.59,1467.55 \n  \"/>\n<polyline clip-path=\"url(#clip730)\" style=\"stroke:#000000; stroke-linecap:butt; stroke-linejoin:round; stroke-width:4; stroke-opacity:1; fill:none\" points=\"\n  527.882,1486.45 527.882,1467.55 \n  \"/>\n<polyline clip-path=\"url(#clip730)\" style=\"stroke:#000000; stroke-linecap:butt; stroke-linejoin:round; stroke-width:4; stroke-opacity:1; fill:none\" points=\"\n  880.174,1486.45 880.174,1467.55 \n  \"/>\n<polyline clip-path=\"url(#clip730)\" style=\"stroke:#000000; stroke-linecap:butt; stroke-linejoin:round; stroke-width:4; stroke-opacity:1; fill:none\" points=\"\n  1232.47,1486.45 1232.47,1467.55 \n  \"/>\n<polyline clip-path=\"url(#clip730)\" style=\"stroke:#000000; stroke-linecap:butt; stroke-linejoin:round; stroke-width:4; stroke-opacity:1; fill:none\" points=\"\n  1584.76,1486.45 1584.76,1467.55 \n  \"/>\n<polyline clip-path=\"url(#clip730)\" style=\"stroke:#000000; stroke-linecap:butt; stroke-linejoin:round; stroke-width:4; stroke-opacity:1; fill:none\" points=\"\n  1937.05,1486.45 1937.05,1467.55 \n  \"/>\n<polyline clip-path=\"url(#clip730)\" style=\"stroke:#000000; stroke-linecap:butt; stroke-linejoin:round; stroke-width:4; stroke-opacity:1; fill:none\" points=\"\n  2289.34,1486.45 2289.34,1467.55 \n  \"/>\n<path clip-path=\"url(#clip730)\" d=\"M175.59 1517.37 Q171.979 1517.37 170.15 1520.93 Q168.344 1524.47 168.344 1531.6 Q168.344 1538.71 170.15 1542.27 Q171.979 1545.82 175.59 1545.82 Q179.224 1545.82 181.03 1542.27 Q182.858 1538.71 182.858 1531.6 Q182.858 1524.47 181.03 1520.93 Q179.224 1517.37 175.59 1517.37 M175.59 1513.66 Q181.4 1513.66 184.455 1518.27 Q187.534 1522.85 187.534 1531.6 Q187.534 1540.33 184.455 1544.94 Q181.4 1549.52 175.59 1549.52 Q169.78 1549.52 166.701 1544.94 Q163.645 1540.33 163.645 1531.6 Q163.645 1522.85 166.701 1518.27 Q169.78 1513.66 175.59 1513.66 Z\" fill=\"#000000\" fill-rule=\"evenodd\" fill-opacity=\"1\" /><path clip-path=\"url(#clip730)\" d=\"M518.264 1544.91 L525.903 1544.91 L525.903 1518.55 L517.593 1520.21 L517.593 1515.95 L525.857 1514.29 L530.532 1514.29 L530.532 1544.91 L538.171 1544.91 L538.171 1548.85 L518.264 1548.85 L518.264 1544.91 Z\" fill=\"#000000\" fill-rule=\"evenodd\" fill-opacity=\"1\" /><path clip-path=\"url(#clip730)\" d=\"M874.827 1544.91 L891.146 1544.91 L891.146 1548.85 L869.202 1548.85 L869.202 1544.91 Q871.864 1542.16 876.447 1537.53 Q881.054 1532.88 882.234 1531.53 Q884.48 1529.01 885.359 1527.27 Q886.262 1525.51 886.262 1523.82 Q886.262 1521.07 884.318 1519.33 Q882.396 1517.6 879.295 1517.6 Q877.096 1517.6 874.642 1518.36 Q872.211 1519.13 869.434 1520.68 L869.434 1515.95 Q872.258 1514.82 874.711 1514.24 Q877.165 1513.66 879.202 1513.66 Q884.572 1513.66 887.767 1516.35 Q890.961 1519.03 890.961 1523.52 Q890.961 1525.65 890.151 1527.57 Q889.364 1529.47 887.258 1532.07 Q886.679 1532.74 883.577 1535.95 Q880.475 1539.15 874.827 1544.91 Z\" fill=\"#000000\" fill-rule=\"evenodd\" fill-opacity=\"1\" /><path clip-path=\"url(#clip730)\" d=\"M1236.71 1530.21 Q1240.07 1530.93 1241.95 1533.2 Q1243.84 1535.47 1243.84 1538.8 Q1243.84 1543.92 1240.33 1546.72 Q1236.81 1549.52 1230.33 1549.52 Q1228.15 1549.52 1225.83 1549.08 Q1223.54 1548.66 1221.09 1547.81 L1221.09 1543.29 Q1223.03 1544.43 1225.35 1545.01 Q1227.66 1545.58 1230.19 1545.58 Q1234.58 1545.58 1236.88 1543.85 Q1239.19 1542.11 1239.19 1538.8 Q1239.19 1535.75 1237.04 1534.03 Q1234.91 1532.3 1231.09 1532.3 L1227.06 1532.3 L1227.06 1528.45 L1231.27 1528.45 Q1234.72 1528.45 1236.55 1527.09 Q1238.38 1525.7 1238.38 1523.11 Q1238.38 1520.45 1236.48 1519.03 Q1234.61 1517.6 1231.09 1517.6 Q1229.17 1517.6 1226.97 1518.01 Q1224.77 1518.43 1222.13 1519.31 L1222.13 1515.14 Q1224.79 1514.4 1227.11 1514.03 Q1229.45 1513.66 1231.51 1513.66 Q1236.83 1513.66 1239.93 1516.09 Q1243.03 1518.5 1243.03 1522.62 Q1243.03 1525.49 1241.39 1527.48 Q1239.75 1529.45 1236.71 1530.21 Z\" fill=\"#000000\" fill-rule=\"evenodd\" fill-opacity=\"1\" /><path clip-path=\"url(#clip730)\" d=\"M1587.77 1518.36 L1575.96 1536.81 L1587.77 1536.81 L1587.77 1518.36 M1586.54 1514.29 L1592.42 1514.29 L1592.42 1536.81 L1597.35 1536.81 L1597.35 1540.7 L1592.42 1540.7 L1592.42 1548.85 L1587.77 1548.85 L1587.77 1540.7 L1572.17 1540.7 L1572.17 1536.19 L1586.54 1514.29 Z\" fill=\"#000000\" fill-rule=\"evenodd\" fill-opacity=\"1\" /><path clip-path=\"url(#clip730)\" d=\"M1927.33 1514.29 L1945.69 1514.29 L1945.69 1518.22 L1931.61 1518.22 L1931.61 1526.7 Q1932.63 1526.35 1933.65 1526.19 Q1934.67 1526 1935.69 1526 Q1941.47 1526 1944.85 1529.17 Q1948.23 1532.34 1948.23 1537.76 Q1948.23 1543.34 1944.76 1546.44 Q1941.29 1549.52 1934.97 1549.52 Q1932.79 1549.52 1930.52 1549.15 Q1928.28 1548.78 1925.87 1548.04 L1925.87 1543.34 Q1927.95 1544.47 1930.18 1545.03 Q1932.4 1545.58 1934.88 1545.58 Q1938.88 1545.58 1941.22 1543.48 Q1943.56 1541.37 1943.56 1537.76 Q1943.56 1534.15 1941.22 1532.04 Q1938.88 1529.94 1934.88 1529.94 Q1933 1529.94 1931.13 1530.35 Q1929.27 1530.77 1927.33 1531.65 L1927.33 1514.29 Z\" fill=\"#000000\" fill-rule=\"evenodd\" fill-opacity=\"1\" /><path clip-path=\"url(#clip730)\" d=\"M2289.75 1529.7 Q2286.6 1529.7 2284.75 1531.86 Q2282.92 1534.01 2282.92 1537.76 Q2282.92 1541.49 2284.75 1543.66 Q2286.6 1545.82 2289.75 1545.82 Q2292.9 1545.82 2294.73 1543.66 Q2296.58 1541.49 2296.58 1537.76 Q2296.58 1534.01 2294.73 1531.86 Q2292.9 1529.7 2289.75 1529.7 M2299.03 1515.05 L2299.03 1519.31 Q2297.27 1518.48 2295.47 1518.04 Q2293.68 1517.6 2291.92 1517.6 Q2287.29 1517.6 2284.84 1520.72 Q2282.41 1523.85 2282.06 1530.17 Q2283.43 1528.15 2285.49 1527.09 Q2287.55 1526 2290.03 1526 Q2295.23 1526 2298.24 1529.17 Q2301.28 1532.32 2301.28 1537.76 Q2301.28 1543.08 2298.13 1546.3 Q2294.98 1549.52 2289.75 1549.52 Q2283.75 1549.52 2280.58 1544.94 Q2277.41 1540.33 2277.41 1531.6 Q2277.41 1523.41 2281.3 1518.55 Q2285.19 1513.66 2291.74 1513.66 Q2293.5 1513.66 2295.28 1514.01 Q2297.09 1514.36 2299.03 1515.05 Z\" fill=\"#000000\" fill-rule=\"evenodd\" fill-opacity=\"1\" /><polyline clip-path=\"url(#clip732)\" style=\"stroke:#000000; stroke-linecap:butt; stroke-linejoin:round; stroke-width:2; stroke-opacity:0.1; fill:none\" points=\"\n  112.177,1445.72 2352.76,1445.72 \n  \"/>\n<polyline clip-path=\"url(#clip732)\" style=\"stroke:#000000; stroke-linecap:butt; stroke-linejoin:round; stroke-width:2; stroke-opacity:0.1; fill:none\" points=\"\n  112.177,1076.26 2352.76,1076.26 \n  \"/>\n<polyline clip-path=\"url(#clip732)\" style=\"stroke:#000000; stroke-linecap:butt; stroke-linejoin:round; stroke-width:2; stroke-opacity:0.1; fill:none\" points=\"\n  112.177,706.807 2352.76,706.807 \n  \"/>\n<polyline clip-path=\"url(#clip732)\" style=\"stroke:#000000; stroke-linecap:butt; stroke-linejoin:round; stroke-width:2; stroke-opacity:0.1; fill:none\" points=\"\n  112.177,337.353 2352.76,337.353 \n  \"/>\n<polyline clip-path=\"url(#clip730)\" style=\"stroke:#000000; stroke-linecap:butt; stroke-linejoin:round; stroke-width:4; stroke-opacity:1; fill:none\" points=\"\n  112.177,1486.45 112.177,47.2441 \n  \"/>\n<polyline clip-path=\"url(#clip730)\" style=\"stroke:#000000; stroke-linecap:butt; stroke-linejoin:round; stroke-width:4; stroke-opacity:1; fill:none\" points=\"\n  112.177,1445.72 131.075,1445.72 \n  \"/>\n<polyline clip-path=\"url(#clip730)\" style=\"stroke:#000000; stroke-linecap:butt; stroke-linejoin:round; stroke-width:4; stroke-opacity:1; fill:none\" points=\"\n  112.177,1076.26 131.075,1076.26 \n  \"/>\n<polyline clip-path=\"url(#clip730)\" style=\"stroke:#000000; stroke-linecap:butt; stroke-linejoin:round; stroke-width:4; stroke-opacity:1; fill:none\" points=\"\n  112.177,706.807 131.075,706.807 \n  \"/>\n<polyline clip-path=\"url(#clip730)\" style=\"stroke:#000000; stroke-linecap:butt; stroke-linejoin:round; stroke-width:4; stroke-opacity:1; fill:none\" points=\"\n  112.177,337.353 131.075,337.353 \n  \"/>\n<path clip-path=\"url(#clip730)\" d=\"M64.2328 1431.51 Q60.6217 1431.51 58.793 1435.08 Q56.9875 1438.62 56.9875 1445.75 Q56.9875 1452.86 58.793 1456.42 Q60.6217 1459.96 64.2328 1459.96 Q67.867 1459.96 69.6726 1456.42 Q71.5013 1452.86 71.5013 1445.75 Q71.5013 1438.62 69.6726 1435.08 Q67.867 1431.51 64.2328 1431.51 M64.2328 1427.81 Q70.0429 1427.81 73.0985 1432.42 Q76.1772 1437 76.1772 1445.75 Q76.1772 1454.48 73.0985 1459.08 Q70.0429 1463.67 64.2328 1463.67 Q58.4226 1463.67 55.344 1459.08 Q52.2884 1454.48 52.2884 1445.75 Q52.2884 1437 55.344 1432.42 Q58.4226 1427.81 64.2328 1427.81 Z\" fill=\"#000000\" fill-rule=\"evenodd\" fill-opacity=\"1\" /><path clip-path=\"url(#clip730)\" d=\"M59.8578 1089.61 L76.1772 1089.61 L76.1772 1093.54 L54.2328 1093.54 L54.2328 1089.61 Q56.8949 1086.85 61.4782 1082.22 Q66.0846 1077.57 67.2652 1076.23 Q69.5105 1073.7 70.3902 1071.97 Q71.2929 1070.21 71.2929 1068.52 Q71.2929 1065.76 69.3485 1064.03 Q67.4272 1062.29 64.3254 1062.29 Q62.1263 1062.29 59.6726 1063.06 Q57.2421 1063.82 54.4643 1065.37 L54.4643 1060.65 Q57.2884 1059.51 59.7421 1058.94 Q62.1958 1058.36 64.2328 1058.36 Q69.6031 1058.36 72.7976 1061.04 Q75.992 1063.73 75.992 1068.22 Q75.992 1070.35 75.1818 1072.27 Q74.3948 1074.17 72.2883 1076.76 Q71.7096 1077.43 68.6078 1080.65 Q65.5059 1083.84 59.8578 1089.61 Z\" fill=\"#000000\" fill-rule=\"evenodd\" fill-opacity=\"1\" /><path clip-path=\"url(#clip730)\" d=\"M66.5939 693.601 L54.7884 712.05 L66.5939 712.05 L66.5939 693.601 M65.367 689.527 L71.2466 689.527 L71.2466 712.05 L76.1772 712.05 L76.1772 715.939 L71.2466 715.939 L71.2466 724.087 L66.5939 724.087 L66.5939 715.939 L50.9921 715.939 L50.9921 711.425 L65.367 689.527 Z\" fill=\"#000000\" fill-rule=\"evenodd\" fill-opacity=\"1\" /><path clip-path=\"url(#clip730)\" d=\"M64.6495 335.489 Q61.5013 335.489 59.6495 337.642 Q57.8208 339.795 57.8208 343.545 Q57.8208 347.272 59.6495 349.448 Q61.5013 351.6 64.6495 351.6 Q67.7976 351.6 69.6263 349.448 Q71.4781 347.272 71.4781 343.545 Q71.4781 339.795 69.6263 337.642 Q67.7976 335.489 64.6495 335.489 M73.9318 320.837 L73.9318 325.096 Q72.1726 324.263 70.367 323.823 Q68.5846 323.383 66.8254 323.383 Q62.1958 323.383 59.7421 326.508 Q57.3115 329.633 56.9643 335.952 Q58.33 333.938 60.3902 332.874 Q62.4504 331.786 64.9272 331.786 Q70.1355 331.786 73.1448 334.957 Q76.1772 338.105 76.1772 343.545 Q76.1772 348.869 73.029 352.086 Q69.8809 355.304 64.6495 355.304 Q58.6541 355.304 55.4828 350.721 Q52.3116 346.114 52.3116 337.387 Q52.3116 329.193 56.2004 324.332 Q60.0893 319.448 66.6402 319.448 Q68.3994 319.448 70.1818 319.795 Q71.9874 320.142 73.9318 320.837 Z\" fill=\"#000000\" fill-rule=\"evenodd\" fill-opacity=\"1\" /><polyline clip-path=\"url(#clip732)\" style=\"stroke:#009af9; stroke-linecap:butt; stroke-linejoin:round; stroke-width:8; stroke-opacity:1; fill:none\" points=\"\n  175.59,1445.72 218.728,1445.72 261.865,1445.72 305.003,1445.72 348.141,1445.72 391.279,1445.72 434.417,1445.72 477.555,1445.72 520.692,1445.72 563.83,1445.72 \n  606.968,1445.72 650.106,1445.72 693.244,1445.72 736.382,1445.72 779.519,1445.72 822.657,1445.72 865.795,1445.72 908.933,1445.72 952.071,1445.72 995.208,1445.72 \n  1038.35,1445.72 1081.48,1445.72 1124.62,1445.72 1167.76,1445.72 1210.9,1445.72 1254.04,1445.72 1297.17,1445.72 1340.31,1445.72 1383.45,1445.72 1426.59,1445.72 \n  1469.72,1445.72 1512.86,1445.72 1556,1445.72 1599.14,1445.72 1642.28,1445.72 1685.41,1445.72 1728.55,1445.72 1771.69,1445.72 1814.83,1445.72 1857.97,1445.72 \n  1901.1,1445.72 1944.24,1445.72 1987.38,1445.72 2030.52,1445.72 2073.65,1445.72 2116.79,1445.72 2159.93,1445.72 2203.07,1445.72 2246.21,1445.72 2289.34,1445.72 \n  \n  \"/>\n<circle clip-path=\"url(#clip732)\" cx=\"527.882\" cy=\"963.257\" r=\"14\" fill=\"#e26f46\" fill-rule=\"evenodd\" fill-opacity=\"1\" stroke=\"#000000\" stroke-opacity=\"1\" stroke-width=\"3.2\"/>\n<circle clip-path=\"url(#clip732)\" cx=\"880.174\" cy=\"1115.49\" r=\"14\" fill=\"#e26f46\" fill-rule=\"evenodd\" fill-opacity=\"1\" stroke=\"#000000\" stroke-opacity=\"1\" stroke-width=\"3.2\"/>\n<circle clip-path=\"url(#clip732)\" cx=\"1232.47\" cy=\"87.9763\" r=\"14\" fill=\"#e26f46\" fill-rule=\"evenodd\" fill-opacity=\"1\" stroke=\"#000000\" stroke-opacity=\"1\" stroke-width=\"3.2\"/>\n<circle clip-path=\"url(#clip732)\" cx=\"1584.76\" cy=\"751.729\" r=\"14\" fill=\"#e26f46\" fill-rule=\"evenodd\" fill-opacity=\"1\" stroke=\"#000000\" stroke-opacity=\"1\" stroke-width=\"3.2\"/>\n<circle clip-path=\"url(#clip732)\" cx=\"1937.05\" cy=\"93.4733\" r=\"14\" fill=\"#e26f46\" fill-rule=\"evenodd\" fill-opacity=\"1\" stroke=\"#000000\" stroke-opacity=\"1\" stroke-width=\"3.2\"/>\n<path clip-path=\"url(#clip730)\" d=\"\nM1890.14 250.738 L2278.07 250.738 L2278.07 95.2176 L1890.14 95.2176  Z\n  \" fill=\"#ffffff\" fill-rule=\"evenodd\" fill-opacity=\"1\"/>\n<polyline clip-path=\"url(#clip730)\" style=\"stroke:#000000; stroke-linecap:butt; stroke-linejoin:round; stroke-width:4; stroke-opacity:1; fill:none\" points=\"\n  1890.14,250.738 2278.07,250.738 2278.07,95.2176 1890.14,95.2176 1890.14,250.738 \n  \"/>\n<polyline clip-path=\"url(#clip730)\" style=\"stroke:#009af9; stroke-linecap:butt; stroke-linejoin:round; stroke-width:4; stroke-opacity:1; fill:none\" points=\"\n  1915.03,147.058 2064.4,147.058 \n  \"/>\n<path clip-path=\"url(#clip730)\" d=\"M2093.97 133.62 L2093.97 146.606 L2099.85 146.606 Q2103.12 146.606 2104.9 144.916 Q2106.68 143.227 2106.68 140.102 Q2106.68 137 2104.9 135.31 Q2103.12 133.62 2099.85 133.62 L2093.97 133.62 M2089.3 129.778 L2099.85 129.778 Q2105.66 129.778 2108.63 132.416 Q2111.61 135.032 2111.61 140.102 Q2111.61 145.217 2108.63 147.833 Q2105.66 150.449 2099.85 150.449 L2093.97 150.449 L2093.97 164.338 L2089.3 164.338 L2089.3 129.778 Z\" fill=\"#000000\" fill-rule=\"evenodd\" fill-opacity=\"1\" /><path clip-path=\"url(#clip730)\" d=\"M2137.4 172.208 L2137.4 175.518 L2112.77 175.518 L2112.77 172.208 L2137.4 172.208 Z\" fill=\"#000000\" fill-rule=\"evenodd\" fill-opacity=\"1\" /><path clip-path=\"url(#clip730)\" d=\"M2162.96 148.689 L2162.96 164.338 L2158.7 164.338 L2158.7 148.828 Q2158.7 145.148 2157.26 143.319 Q2155.83 141.49 2152.96 141.49 Q2149.51 141.49 2147.52 143.69 Q2145.53 145.889 2145.53 149.685 L2145.53 164.338 L2141.24 164.338 L2141.24 138.412 L2145.53 138.412 L2145.53 142.44 Q2147.05 140.102 2149.11 138.944 Q2151.2 137.787 2153.9 137.787 Q2158.37 137.787 2160.66 140.565 Q2162.96 143.319 2162.96 148.689 Z\" fill=\"#000000\" fill-rule=\"evenodd\" fill-opacity=\"1\" /><path clip-path=\"url(#clip730)\" d=\"M2181.68 128.366 Q2178.58 133.69 2177.08 138.898 Q2175.57 144.106 2175.57 149.453 Q2175.57 154.801 2177.08 160.055 Q2178.6 165.287 2181.68 170.588 L2177.98 170.588 Q2174.51 165.148 2172.77 159.893 Q2171.06 154.639 2171.06 149.453 Q2171.06 144.291 2172.77 139.06 Q2174.48 133.828 2177.98 128.366 L2181.68 128.366 Z\" fill=\"#000000\" fill-rule=\"evenodd\" fill-opacity=\"1\" /><path clip-path=\"url(#clip730)\" d=\"M2211.5 138.412 L2202.12 151.027 L2211.98 164.338 L2206.96 164.338 L2199.41 154.152 L2191.87 164.338 L2186.84 164.338 L2196.91 150.773 L2187.7 138.412 L2192.72 138.412 L2199.6 147.648 L2206.47 138.412 L2211.5 138.412 Z\" fill=\"#000000\" fill-rule=\"evenodd\" fill-opacity=\"1\" /><path clip-path=\"url(#clip730)\" d=\"M2217.33 128.366 L2221.03 128.366 Q2224.51 133.828 2226.22 139.06 Q2227.96 144.291 2227.96 149.453 Q2227.96 154.639 2226.22 159.893 Q2224.51 165.148 2221.03 170.588 L2217.33 170.588 Q2220.41 165.287 2221.91 160.055 Q2223.44 154.801 2223.44 149.453 Q2223.44 144.106 2221.91 138.898 Q2220.41 133.69 2217.33 128.366 Z\" fill=\"#000000\" fill-rule=\"evenodd\" fill-opacity=\"1\" /><circle clip-path=\"url(#clip730)\" cx=\"1989.72\" cy=\"198.898\" r=\"23\" fill=\"#e26f46\" fill-rule=\"evenodd\" fill-opacity=\"1\" stroke=\"#000000\" stroke-opacity=\"1\" stroke-width=\"5.12\"/>\n<path clip-path=\"url(#clip730)\" d=\"M2093.58 212.289 L2093.58 226.039 L2089.3 226.039 L2089.3 190.252 L2093.58 190.252 L2093.58 194.187 Q2094.92 191.872 2096.96 190.761 Q2099.02 189.627 2101.87 189.627 Q2106.59 189.627 2109.53 193.377 Q2112.49 197.127 2112.49 203.238 Q2112.49 209.349 2109.53 213.099 Q2106.59 216.849 2101.87 216.849 Q2099.02 216.849 2096.96 215.738 Q2094.92 214.603 2093.58 212.289 M2108.07 203.238 Q2108.07 198.539 2106.13 195.877 Q2104.21 193.192 2100.83 193.192 Q2097.45 193.192 2095.5 195.877 Q2093.58 198.539 2093.58 203.238 Q2093.58 207.937 2095.5 210.622 Q2097.45 213.284 2100.83 213.284 Q2104.21 213.284 2106.13 210.622 Q2108.07 207.937 2108.07 203.238 Z\" fill=\"#000000\" fill-rule=\"evenodd\" fill-opacity=\"1\" /><path clip-path=\"url(#clip730)\" d=\"M2129.6 193.238 Q2126.17 193.238 2124.18 195.923 Q2122.19 198.585 2122.19 203.238 Q2122.19 207.891 2124.16 210.576 Q2126.15 213.238 2129.6 213.238 Q2133 213.238 2134.99 210.553 Q2136.98 207.867 2136.98 203.238 Q2136.98 198.631 2134.99 195.946 Q2133 193.238 2129.6 193.238 M2129.6 189.627 Q2135.15 189.627 2138.33 193.238 Q2141.5 196.849 2141.5 203.238 Q2141.5 209.604 2138.33 213.238 Q2135.15 216.849 2129.6 216.849 Q2124.02 216.849 2120.85 213.238 Q2117.7 209.604 2117.7 203.238 Q2117.7 196.849 2120.85 193.238 Q2124.02 189.627 2129.6 189.627 Z\" fill=\"#000000\" fill-rule=\"evenodd\" fill-opacity=\"1\" /><path clip-path=\"url(#clip730)\" d=\"M2148.56 190.252 L2152.82 190.252 L2152.82 216.178 L2148.56 216.178 L2148.56 190.252 M2148.56 180.159 L2152.82 180.159 L2152.82 185.553 L2148.56 185.553 L2148.56 180.159 Z\" fill=\"#000000\" fill-rule=\"evenodd\" fill-opacity=\"1\" /><path clip-path=\"url(#clip730)\" d=\"M2183.28 200.529 L2183.28 216.178 L2179.02 216.178 L2179.02 200.668 Q2179.02 196.988 2177.59 195.159 Q2176.15 193.33 2173.28 193.33 Q2169.83 193.33 2167.84 195.53 Q2165.85 197.729 2165.85 201.525 L2165.85 216.178 L2161.57 216.178 L2161.57 190.252 L2165.85 190.252 L2165.85 194.28 Q2167.38 191.942 2169.44 190.784 Q2171.52 189.627 2174.23 189.627 Q2178.7 189.627 2180.99 192.405 Q2183.28 195.159 2183.28 200.529 Z\" fill=\"#000000\" fill-rule=\"evenodd\" fill-opacity=\"1\" /><path clip-path=\"url(#clip730)\" d=\"M2195.99 182.891 L2195.99 190.252 L2204.76 190.252 L2204.76 193.562 L2195.99 193.562 L2195.99 207.636 Q2195.99 210.807 2196.84 211.71 Q2197.72 212.613 2200.39 212.613 L2204.76 212.613 L2204.76 216.178 L2200.39 216.178 Q2195.46 216.178 2193.58 214.349 Q2191.71 212.497 2191.71 207.636 L2191.71 193.562 L2188.58 193.562 L2188.58 190.252 L2191.71 190.252 L2191.71 182.891 L2195.99 182.891 Z\" fill=\"#000000\" fill-rule=\"evenodd\" fill-opacity=\"1\" /><path clip-path=\"url(#clip730)\" d=\"M2226.89 191.016 L2226.89 195.043 Q2225.08 194.117 2223.14 193.655 Q2221.2 193.192 2219.11 193.192 Q2215.94 193.192 2214.34 194.164 Q2212.77 195.136 2212.77 197.08 Q2212.77 198.562 2213.9 199.418 Q2215.04 200.252 2218.46 201.016 L2219.92 201.34 Q2224.46 202.312 2226.36 204.094 Q2228.28 205.854 2228.28 209.025 Q2228.28 212.636 2225.41 214.742 Q2222.56 216.849 2217.56 216.849 Q2215.48 216.849 2213.21 216.432 Q2210.96 216.039 2208.46 215.228 L2208.46 210.83 Q2210.83 212.057 2213.12 212.682 Q2215.41 213.284 2217.65 213.284 Q2220.66 213.284 2222.28 212.266 Q2223.9 211.224 2223.9 209.349 Q2223.9 207.613 2222.72 206.687 Q2221.57 205.761 2217.61 204.904 L2216.13 204.557 Q2212.17 203.724 2210.41 202.011 Q2208.65 200.275 2208.65 197.266 Q2208.65 193.608 2211.24 191.618 Q2213.83 189.627 2218.6 189.627 Q2220.96 189.627 2223.05 189.974 Q2225.13 190.321 2226.89 191.016 Z\" fill=\"#000000\" fill-rule=\"evenodd\" fill-opacity=\"1\" /></svg>\n"
     },
     "execution_count": 4,
     "metadata": {},
     "output_type": "execute_result"
    }
   ],
   "source": [
    "# Fazendo um gráfico para verificar a aproximação\n",
    "using Plots;\n",
    "points = 50;\n",
    "t = LinRange(0,6,points);\n",
    "z = zeros(points,1);\n",
    "for i = 1 : points\n",
    "    z[i] = polyfit(t[i],P);\n",
    "end\n",
    "plot(t,z,lw = 2,label=\"P_n(x)\")\n",
    "scatter!(P[:,1],P[:,2],label=\"points\")"
   ]
  },
  {
   "cell_type": "markdown",
   "id": "24dd9a77",
   "metadata": {},
   "source": [
    "Note que o polinômio interpolante retorna valores exatos nos pontos de interpolação."
   ]
  }
 ],
 "metadata": {
  "kernelspec": {
   "display_name": "Julia 1.7.3",
   "language": "julia",
   "name": "julia-1.7"
  },
  "language_info": {
   "file_extension": ".jl",
   "mimetype": "application/julia",
   "name": "julia",
   "version": "1.7.3"
  }
 },
 "nbformat": 4,
 "nbformat_minor": 5
}
